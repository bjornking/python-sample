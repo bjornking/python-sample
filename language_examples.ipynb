{
 "cells": [
  {
   "cell_type": "code",
   "execution_count": 1,
   "metadata": {
    "collapsed": true
   },
   "outputs": [],
   "source": [
    "from math import sin, cos # import the sine and cosine functions from the math library"
   ]
  },
  {
   "cell_type": "code",
   "execution_count": 4,
   "metadata": {
    "collapsed": false
   },
   "outputs": [
    {
     "name": "stdout",
     "output_type": "stream",
     "text": [
      "5\n",
      "-5\n",
      "-8\n",
      "16\n"
     ]
    }
   ],
   "source": [
    "# math and numbers work like you would expect\n",
    "# and you dont have to tell print what type of thing you're printing\n",
    "print(2+3)\n",
    "print(1-6)\n",
    "print(-2*4)\n",
    "print(4**2) # here the `**` is the exponent operator, so `4**2` is `4*4` and `4**3` is `4*4*4`"
   ]
  },
  {
   "cell_type": "code",
   "execution_count": 6,
   "metadata": {
    "collapsed": false
   },
   "outputs": [
    {
     "name": "stdout",
     "output_type": "stream",
     "text": [
      "15\n"
     ]
    }
   ],
   "source": [
    "# variables\n",
    "x = 3\n",
    "y = 5\n",
    "print(x*y)"
   ]
  },
  {
   "cell_type": "code",
   "execution_count": 9,
   "metadata": {
    "collapsed": false
   },
   "outputs": [
    {
     "name": "stdout",
     "output_type": "stream",
     "text": [
      "[1, '2', 3, 4, 5]\n",
      "[1, '2', 3, 4, 5, 6]\n",
      "[1, '2', 3, 5, 6]\n",
      "1\n"
     ]
    }
   ],
   "source": [
    "# lists\n",
    "list1 = [1, '2', 3, 4, 5] # elements don't have to be of the same type\n",
    "print(list1) #even lists can be `print`ed\n",
    "\n",
    "#lists can be changed\n",
    "list1.append(6) # add `6` to the end of the list\n",
    "print(list1)\n",
    "\n",
    "list1.pop(3) # remove the number in spot 3 (which is the number 4)\n",
    "print(list1)\n",
    "\n",
    "print(list1[0]) #lists can be indexed"
   ]
  },
  {
   "cell_type": "code",
   "execution_count": 10,
   "metadata": {
    "collapsed": false
   },
   "outputs": [
    {
     "name": "stdout",
     "output_type": "stream",
     "text": [
      "('a', 3, 12)\n"
     ]
    }
   ],
   "source": [
    "# tuples\n",
    "# tuples are like lists but you cant add or remove any elements\n",
    "tuple1 = ('a',3,3*4)\n",
    "print(tuple1)"
   ]
  },
  {
   "cell_type": "code",
   "execution_count": 13,
   "metadata": {
    "collapsed": false
   },
   "outputs": [
    {
     "name": "stdout",
     "output_type": "stream",
     "text": [
      "1\n",
      "2\n",
      "3\n",
      "5\n",
      "6\n"
     ]
    }
   ],
   "source": [
    "# the for loop is the main loop in python\n",
    "# it is more like a `foreach` loop than\n",
    "# a `for` loop in a language like C\n",
    "# it will iterate though any iterable (list, tuple, dictionary, etc.)\n",
    "# in order\n",
    "for i in list1:\n",
    "    print(i) #indentation is important! it's part of the syntax"
   ]
  },
  {
   "cell_type": "code",
   "execution_count": 15,
   "metadata": {
    "collapsed": false
   },
   "outputs": [
    {
     "name": "stdout",
     "output_type": "stream",
     "text": [
      "0\n",
      "1\n",
      "2\n",
      "3\n",
      "4\n",
      "0\n",
      "1\n",
      "2\n",
      "3\n",
      "4\n"
     ]
    }
   ],
   "source": [
    "# the while loop is also available, but most things are better written as for loops\n",
    "\n",
    "j = 0\n",
    "while j < 5:\n",
    "    print(j)\n",
    "    j = j+1\n",
    "    \n",
    "# the same thing as\n",
    "for j in range(5):\n",
    "    print(j)"
   ]
  },
  {
   "cell_type": "code",
   "execution_count": 16,
   "metadata": {
    "collapsed": false
   },
   "outputs": [
    {
     "name": "stdout",
     "output_type": "stream",
     "text": [
      "3\n"
     ]
    }
   ],
   "source": [
    "# define a function\n",
    "def func1(x):\n",
    "    return x+1\n",
    "\n",
    "print(func1(2))"
   ]
  },
  {
   "cell_type": "code",
   "execution_count": null,
   "metadata": {
    "collapsed": true
   },
   "outputs": [],
   "source": []
  }
 ],
 "metadata": {
  "kernelspec": {
   "display_name": "science",
   "language": "python",
   "name": "science"
  },
  "language_info": {
   "codemirror_mode": {
    "name": "ipython",
    "version": 3
   },
   "file_extension": ".py",
   "mimetype": "text/x-python",
   "name": "python",
   "nbconvert_exporter": "python",
   "pygments_lexer": "ipython3",
   "version": "3.6.1"
  }
 },
 "nbformat": 4,
 "nbformat_minor": 0
}
