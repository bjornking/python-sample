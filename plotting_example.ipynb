{
 "cells": [
  {
   "cell_type": "code",
   "execution_count": null,
   "metadata": {
    "collapsed": false
   },
   "outputs": [],
   "source": [
    "# the following line is to allow plots to be displayed in the notebook\n",
    "%matplotlib inline\n",
    "from matplotlib.pyplot import plot\n",
    "x_values = [1,2,3,4,5]\n",
    "y_values = [1,4,9,16,25]\n",
    "# plot defaults to connecting points with straight lines\n",
    "plot(x_values, y_values)"
   ]
  },
  {
   "cell_type": "code",
   "execution_count": null,
   "metadata": {
    "collapsed": false
   },
   "outputs": [],
   "source": [
    "# or a more complicated example\n",
    "from math import sin, cos, tan\n",
    "x_values2 = [i/10 for i in range(100)] # equivalent to [0, 0.1, 0.2, ..., 9.8, 9.9]\n",
    "y_values2 = [sin(x) for x in x_values2] # apply `sin` to each element in the list `x_values2`\n",
    "                                        # and store the results in a new list\n",
    "# add the format `'r.'` which stands for red dots\n",
    "# to show dots instead of lines\n",
    "plot(x_values2, y_values2, 'r.')"
   ]
  },
  {
   "cell_type": "code",
   "execution_count": null,
   "metadata": {
    "collapsed": false
   },
   "outputs": [],
   "source": [
    "# or 2 functions on the same plot\n",
    "x_values3 = [i/10 for i in range(100)]\n",
    "y_values3 = [sin(i) for i in x_values3]\n",
    "z_values3 = [cos(i) for i in x_values3]\n",
    "plot(x_values3, y_values3, 'r+', x_values3, z_values3, 'b.')"
   ]
  },
  {
   "cell_type": "code",
   "execution_count": null,
   "metadata": {
    "collapsed": true
   },
   "outputs": [],
   "source": []
  }
 ],
 "metadata": {
  "kernelspec": {
   "display_name": "Python 3",
   "language": "python",
   "name": "python3"
  },
  "language_info": {
   "codemirror_mode": {
    "name": "ipython",
    "version": 3
   },
   "file_extension": ".py",
   "mimetype": "text/x-python",
   "name": "python",
   "nbconvert_exporter": "python",
   "pygments_lexer": "ipython3",
   "version": "3.5.2"
  }
 },
 "nbformat": 4,
 "nbformat_minor": 0
}
